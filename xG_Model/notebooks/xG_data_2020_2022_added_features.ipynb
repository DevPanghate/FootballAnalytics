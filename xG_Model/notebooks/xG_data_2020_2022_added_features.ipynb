{
 "cells": [
  {
   "cell_type": "code",
   "execution_count": null,
   "metadata": {},
   "outputs": [],
   "source": [
    "from statsbombpy import sb\n",
    "import mplsoccer\n",
    "\n",
    "import pandas as pd\n",
    "import numpy as np\n",
    "import math\n",
    "import ast\n",
    "import time\n",
    "\n",
    "import seaborn as sns\n",
    "import matplotlib.pyplot as plt\n",
    "\n",
    "from tqdm import tqdm"
   ]
  },
  {
   "cell_type": "code",
   "execution_count": null,
   "metadata": {},
   "outputs": [],
   "source": [
    "sb.competitions().sort_values('season_name').tail(20)"
   ]
  },
  {
   "cell_type": "markdown",
   "metadata": {},
   "source": [
    "### Getting the data availible from 2020 to 2022"
   ]
  },
  {
   "cell_type": "code",
   "execution_count": null,
   "metadata": {},
   "outputs": [],
   "source": [
    "ISL = sb.matches(competition_id=1238,season_id=108)"
   ]
  },
  {
   "cell_type": "code",
   "execution_count": null,
   "metadata": {},
   "outputs": [],
   "source": [
    "ISL = ISL[ISL['match_status']=='available']"
   ]
  },
  {
   "cell_type": "code",
   "execution_count": null,
   "metadata": {},
   "outputs": [],
   "source": [
    "ISL"
   ]
  },
  {
   "cell_type": "code",
   "execution_count": null,
   "metadata": {},
   "outputs": [],
   "source": [
    "ISL.columns"
   ]
  },
  {
   "cell_type": "code",
   "execution_count": null,
   "metadata": {},
   "outputs": [],
   "source": [
    "matches_list = ISL['match_id']"
   ]
  },
  {
   "cell_type": "code",
   "execution_count": null,
   "metadata": {},
   "outputs": [],
   "source": [
    "def in_box(player):\n",
    "    \n",
    "    x,y = player['location']\n",
    "    #print('in_box works')\n",
    "    return True if ((102<=x<=120) and (18<=y<=62)) else False\n",
    "    "
   ]
  },
  {
   "cell_type": "code",
   "execution_count": null,
   "metadata": {},
   "outputs": [],
   "source": [
    "def ahead(player,shot_location):\n",
    "    \n",
    "    x1,y1 = shot_location\n",
    "    x,y = player['location']\n",
    "    #print('ahead works')\n",
    "    return True if (x1<=x<=120) else False"
   ]
  },
  {
   "cell_type": "code",
   "execution_count": null,
   "metadata": {},
   "outputs": [],
   "source": [
    "def near_shooter(player,shot_location):\n",
    "    x1,y1 = shot_location\n",
    "    x,y = player['location']\n",
    "    dist = np.sqrt((x1-x)**2 + (y1-y)**2)\n",
    "    #print('near-shooter works')\n",
    "    return True if dist<=2 else False"
   ]
  },
  {
   "cell_type": "code",
   "execution_count": null,
   "metadata": {},
   "outputs": [],
   "source": [
    "def is_teammate(player):\n",
    "    return player['teammate']"
   ]
  },
  {
   "cell_type": "code",
   "execution_count": null,
   "metadata": {},
   "outputs": [],
   "source": [
    "def is_gk(player):\n",
    "    pos = player['position']['name']\n",
    "    #print(pos)\n",
    "    return (pos == 'Goalkeeper')\n"
   ]
  },
  {
   "cell_type": "code",
   "execution_count": null,
   "metadata": {},
   "outputs": [],
   "source": [
    "def dist_from_goal(player):\n",
    "    x,y = player['location']\n",
    "    #print('dist_from_goal works')\n",
    "    return np.sqrt((120-x)**2 + (40-y)**2)"
   ]
  },
  {
   "cell_type": "code",
   "execution_count": null,
   "metadata": {},
   "outputs": [],
   "source": [
    "def player_locations(players,location):\n",
    "    teammates_in_box = 0\n",
    "    teammates_ahead = 0\n",
    "    opp_in_box = 0\n",
    "    gk_dist_from_goal = None\n",
    "    gk_x = None\n",
    "    gk_y = None\n",
    "    opponents_near = 0\n",
    "    #print('initialized')\n",
    "    for player in players:\n",
    "        if is_teammate(player):\n",
    "            if ahead(player,location):\n",
    "                teammates_ahead+=1\n",
    "            if in_box(player):\n",
    "                teammates_in_box+=1\n",
    "            #print('teammate works')\n",
    "        else:\n",
    "            if is_gk(player):\n",
    "                #print('is_gk')\n",
    "                gk_x = player['location'][0]\n",
    "                gk_y = player['location'][1]\n",
    "                gk_dist_from_goal = dist_from_goal(player)\n",
    "            else:\n",
    "                #print('opponent')\n",
    "                if in_box(player):\n",
    "                    opp_in_box +=1\n",
    "                if near_shooter(player,location):\n",
    "                    opponents_near+=1\n",
    "                    \n",
    "    return teammates_in_box,teammates_ahead,opp_in_box,gk_dist_from_goal,gk_x,gk_y,opponents_near\n",
    "                \n",
    "            \n",
    "        "
   ]
  },
  {
   "cell_type": "code",
   "execution_count": null,
   "metadata": {},
   "outputs": [],
   "source": [
    "shots_data = []\n",
    "pbar = tqdm(total=len(matches_list))\n",
    "\n",
    "for idx in matches_list:\n",
    "    #time.sleep(10)\n",
    "    events = sb.events(match_id=idx, split=True, flatten_attrs=False)[\"shots\"]\n",
    "    events = events[events['play_pattern']=='Regular Play'][['id', 'index','play_pattern','location','shot','possession_team']].reset_index()\n",
    "    events['type'] = events.apply(lambda x:x['shot']['type']['name'],axis=1)\n",
    "    events['outcome'] = events.apply(lambda x:x['shot']['outcome']['name'],axis=1)\n",
    "    events['body_part'] = events.apply(lambda x:x['shot']['body_part']['name'],axis=1)\n",
    "    events['players'] = events.apply(lambda x:x['shot']['freeze_frame'],axis=1)\n",
    "    home_team = ISL.loc[ISL['match_id']==idx,'home_team'].values[0]\n",
    "    events['home_team'] = events.apply(lambda x: 1 if x['possession_team']==home_team else 0,axis=1)\n",
    "    events['follows_dribble'] = events.apply(lambda x: 1 if 'follows_dribble' in x['shot'].keys() else 0,axis=1)\n",
    "    events2 = events.apply(lambda x:player_locations(x['players'],x['location']),axis=1)\n",
    "    events2 = pd.DataFrame(list(events2),columns=['teammates_in_box','teammates_ahead','opp_in_box','gk_dist_from_goal','gk_x','gk_y','opponents_near'])\n",
    "    events = pd.concat([events,events2],axis=1)\n",
    "    shots_data.append(events)\n",
    "    pbar.update(1)\n",
    "    \n",
    "pbar.close"
   ]
  },
  {
   "cell_type": "code",
   "execution_count": null,
   "metadata": {},
   "outputs": [],
   "source": [
    "shots_data"
   ]
  },
  {
   "cell_type": "code",
   "execution_count": null,
   "metadata": {},
   "outputs": [],
   "source": [
    "ISL_shots = pd.concat(shots_data)"
   ]
  },
  {
   "cell_type": "code",
   "execution_count": null,
   "metadata": {},
   "outputs": [],
   "source": [
    "ISL_shots.to_csv('D:/Football_data_scientist/data/ISL_shots_added_features.csv')"
   ]
  },
  {
   "cell_type": "code",
   "execution_count": null,
   "metadata": {},
   "outputs": [],
   "source": [
    "LaLiga_20_21 = sb.matches(competition_id=11,season_id=90)\n",
    "LaLiga_20_21 = LaLiga_20_21[LaLiga_20_21['match_status']=='available']\n",
    "LaLiga_20_21_matches_list = LaLiga_20_21['match_id']"
   ]
  },
  {
   "cell_type": "code",
   "execution_count": null,
   "metadata": {},
   "outputs": [],
   "source": [
    "shots_data_LaLiga_20_21 = []\n",
    "pbar = tqdm(total=len(LaLiga_20_21_matches_list))\n",
    "\n",
    "for idx in LaLiga_20_21_matches_list:\n",
    "    \n",
    "    events = sb.events(match_id=idx, split=True, flatten_attrs=False)[\"shots\"]\n",
    "    events = events[events['play_pattern']=='Regular Play'][['id', 'index','play_pattern','location','shot','possession_team']].reset_index()\n",
    "    events['type'] = events.apply(lambda x:x['shot']['type']['name'],axis=1)\n",
    "    events['outcome'] = events.apply(lambda x:x['shot']['outcome']['name'],axis=1)\n",
    "    events['body_part'] = events.apply(lambda x:x['shot']['body_part']['name'],axis=1)\n",
    "    events['players'] = events.apply(lambda x:x['shot']['freeze_frame'],axis=1)\n",
    "    #events['home_team'] = events.apply(lambda x: 1 if x['possession_team']==home_team else 0,axis=1)\n",
    "    events['follows_dribble'] = events.apply(lambda x: 1 if 'follows_dribble' in x['shot'].keys() else 0,axis=1)\n",
    "    events2 = events.apply(lambda x:player_locations(x['players'],x['location']),axis=1)\n",
    "    events2 = pd.DataFrame(list(events2),columns=['teammates_in_box','teammates_ahead','opp_in_box','gk_dist_from_goal','gk_x','gk_y','opponents_near'])\n",
    "    events = pd.concat([events,events2],axis=1)\n",
    "    shots_data_LaLiga_20_21.append(events)\n",
    "    pbar.update(1)\n",
    "    \n",
    "pbar.close"
   ]
  },
  {
   "cell_type": "code",
   "execution_count": null,
   "metadata": {},
   "outputs": [],
   "source": [
    "LaLiga_20_21_shots = pd.concat(shots_data_LaLiga_20_21)"
   ]
  },
  {
   "cell_type": "code",
   "execution_count": null,
   "metadata": {},
   "outputs": [],
   "source": [
    "LaLiga_20_21_shots.to_csv('LaLiga_20_21_shots.csv')"
   ]
  },
  {
   "cell_type": "code",
   "execution_count": null,
   "metadata": {},
   "outputs": [],
   "source": []
  },
  {
   "cell_type": "code",
   "execution_count": null,
   "metadata": {},
   "outputs": [],
   "source": [
    "LaLiga_19_20 = sb.matches(competition_id=11,season_id=42)\n",
    "LaLiga_19_20 = LaLiga_19_20[LaLiga_19_20['match_status']=='available']\n",
    "LaLiga_19_20_matches_list = LaLiga_19_20['match_id']\n"
   ]
  },
  {
   "cell_type": "code",
   "execution_count": null,
   "metadata": {},
   "outputs": [],
   "source": [
    "shots_data_LaLiga_19_20 = []\n",
    "pbar = tqdm(total=len(LaLiga_19_20_matches_list))\n",
    "\n",
    "for idx in LaLiga_19_20_matches_list:\n",
    "    events = sb.events(match_id=idx, split=True, flatten_attrs=False)[\"shots\"]\n",
    "    events = events[events['play_pattern']=='Regular Play'][['id', 'index','play_pattern','location','shot','possession_team']].reset_index()\n",
    "    events['type'] = events.apply(lambda x:x['shot']['type']['name'],axis=1)\n",
    "    events['outcome'] = events.apply(lambda x:x['shot']['outcome']['name'],axis=1)\n",
    "    events['body_part'] = events.apply(lambda x:x['shot']['body_part']['name'],axis=1)\n",
    "    events['players'] = events.apply(lambda x:x['shot']['freeze_frame'],axis=1)\n",
    "    events['home_team'] = events.apply(lambda x: 1 if x['possession_team']==home_team else 0,axis=1)\n",
    "    events['follows_dribble'] = events.apply(lambda x: 1 if 'follows_dribble' in x['shot'].keys() else 0,axis=1)\n",
    "    events2 = events.apply(lambda x:player_locations(x['players'],x['location']),axis=1)\n",
    "    events2 = pd.DataFrame(list(events2),columns=['teammates_in_box','teammates_ahead','opp_in_box','gk_dist_from_goal','gk_x','gk_y','opponents_near'])\n",
    "    events = pd.concat([events,events2],axis=1)\n",
    "    shots_data_LaLiga_19_20.append(events)\n",
    "    pbar.update(1)\n",
    "    \n",
    "pbar.close"
   ]
  },
  {
   "cell_type": "code",
   "execution_count": null,
   "metadata": {},
   "outputs": [],
   "source": [
    "LaLiga_19_20_shots = pd.concat(shots_data_LaLiga_19_20)\n",
    "\n"
   ]
  },
  {
   "cell_type": "code",
   "execution_count": null,
   "metadata": {},
   "outputs": [],
   "source": [
    "LaLiga_19_20_shots.to_csv('LaLiga_19_20_shots_extended.csv')\n"
   ]
  },
  {
   "cell_type": "code",
   "execution_count": null,
   "metadata": {},
   "outputs": [],
   "source": [
    "Euro_2020 = sb.matches(competition_id=55,season_id=43)\n",
    "Euro_2020 = Euro_2020[Euro_2020['match_status']=='available']\n",
    "Euro_2020_matches_list = Euro_2020['match_id']"
   ]
  },
  {
   "cell_type": "code",
   "execution_count": null,
   "metadata": {},
   "outputs": [],
   "source": [
    "shots_data_Euro_2020 = []\n",
    "pbar = tqdm(total=len(Euro_2020_matches_list))\n",
    "\n",
    "for idx in Euro_2020_matches_list:\n",
    "    events = sb.events(match_id=idx, split=True, flatten_attrs=False)[\"shots\"]\n",
    "    events = events[events['play_pattern']=='Regular Play'][['id', 'index','play_pattern','location','shot','possession_team']].reset_index()\n",
    "    events['type'] = events.apply(lambda x:x['shot']['type']['name'],axis=1)\n",
    "    events['outcome'] = events.apply(lambda x:x['shot']['outcome']['name'],axis=1)\n",
    "    events['body_part'] = events.apply(lambda x:x['shot']['body_part']['name'],axis=1)\n",
    "    events['players'] = events.apply(lambda x:x['shot']['freeze_frame'],axis=1)\n",
    "    #events['home_team'] = events.apply(lambda x: 1 if x['possession_team']==home_team else 0,axis=1)\n",
    "    events['follows_dribble'] = events.apply(lambda x: 1 if 'follows_dribble' in x['shot'].keys() else 0,axis=1)\n",
    "    events2 = events.apply(lambda x:player_locations(x['players'],x['location']),axis=1)\n",
    "    events2 = pd.DataFrame(list(events2),columns=['teammates_in_box','teammates_ahead','opp_in_box','gk_dist_from_goal','gk_x','gk_y','opponents_near'])\n",
    "    events = pd.concat([events,events2],axis=1)\n",
    "    shots_data_Euro_2020.append(events)\n",
    "    pbar.update(1)\n",
    "    \n",
    "pbar.close\n",
    "\n",
    "Euro_2020_shots = pd.concat(shots_data_Euro_2020)"
   ]
  },
  {
   "cell_type": "code",
   "execution_count": null,
   "metadata": {},
   "outputs": [],
   "source": [
    "Euro_2020_shots.to_csv('Euro_2020_shots_extended.csv')"
   ]
  },
  {
   "cell_type": "code",
   "execution_count": null,
   "metadata": {},
   "outputs": [],
   "source": [
    "Fifa_2022 = sb.matches(competition_id=43,season_id=106)\n",
    "Fifa_2022 = Fifa_2022[Fifa_2022['match_status']=='available']\n",
    "Fifa_2022_matches_list = Fifa_2022['match_id']\n",
    "\n",
    "\n"
   ]
  },
  {
   "cell_type": "code",
   "execution_count": null,
   "metadata": {},
   "outputs": [],
   "source": [
    "Fifa_2022_matches_list[13]"
   ]
  },
  {
   "cell_type": "code",
   "execution_count": null,
   "metadata": {},
   "outputs": [],
   "source": [
    "events = sb.events(match_id=Fifa_2022_matches_list[13], split=True, flatten_attrs=False)[\"shots\"]\n",
    "events = events[events['play_pattern']=='Regular Play'][['id', 'index','play_pattern','location','shot']].reset_index()\n",
    "events"
   ]
  },
  {
   "cell_type": "code",
   "execution_count": null,
   "metadata": {},
   "outputs": [],
   "source": [
    "shots_data_Fifa_2022 = []\n",
    "pbar = tqdm(total=len(Fifa_2022_matches_list))\n",
    "\n",
    "for idx in Fifa_2022_matches_list:\n",
    "    events = sb.events(match_id=idx, split=True, flatten_attrs=False)[\"shots\"]\n",
    "    events = events[events['play_pattern']=='Regular Play'][['id', 'index','play_pattern','location','shot']].reset_index()\n",
    "    if len(events)>0:\n",
    "        events['type'] = events.apply(lambda x:x['shot']['type']['name'],axis=1)\n",
    "        events['outcome'] = events.apply(lambda x:x['shot']['outcome']['name'],axis=1)\n",
    "        events['body_part'] = events.apply(lambda x:x['shot']['body_part']['name'],axis=1)\n",
    "        shots_data_Fifa_2022.append(events)\n",
    "    pbar.update(1)\n",
    "    \n",
    "pbar.close\n",
    "\n",
    "Fifa_2022_shots = pd.concat(shots_data_Fifa_2022)\n",
    "\n",
    "\n",
    "\n",
    "Fifa_2022_shots.to_csv('Fifa_2022_shots.csv')\n"
   ]
  },
  {
   "cell_type": "code",
   "execution_count": null,
   "metadata": {},
   "outputs": [],
   "source": []
  }
 ],
 "metadata": {
  "kernelspec": {
   "display_name": "Python 3",
   "language": "python",
   "name": "python3"
  },
  "language_info": {
   "codemirror_mode": {
    "name": "ipython",
    "version": 3
   },
   "file_extension": ".py",
   "mimetype": "text/x-python",
   "name": "python",
   "nbconvert_exporter": "python",
   "pygments_lexer": "ipython3",
   "version": "3.8.5"
  }
 },
 "nbformat": 4,
 "nbformat_minor": 4
}
